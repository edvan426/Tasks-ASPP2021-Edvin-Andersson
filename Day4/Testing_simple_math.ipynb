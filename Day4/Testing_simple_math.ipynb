{
 "cells": [
  {
   "cell_type": "code",
   "execution_count": 72,
   "metadata": {},
   "outputs": [
    {
     "name": "stdout",
     "output_type": "stream",
     "text": [
      "Overwriting test_simple_math.py\n"
     ]
    }
   ],
   "source": [
    "%%writefile test_simple_math.py\n",
    "import simple_math as sm\n",
    "import pytest\n",
    "import numpy as np\n",
    "\n",
    "#testing numbers between -50 and 50\n",
    "a,b,a0,a1,a2,x=(np.random.random(6)-0.5)*100\n",
    "print (a,b,a0,a1,a2,x)\n",
    "\n",
    "def test_simple_add():\n",
    "    assert sm.simple_add(a,b) == a+b\n",
    "\n",
    "def test_simple_sub():\n",
    "    assert sm.simple_sub(a,b) == a-b\n",
    "\n",
    "def test_simple_mult():\n",
    "    assert sm.simple_mult(a,b) == a*b\n",
    "\n",
    "def test_simple_div():\n",
    "    assert sm.simple_div(a,b) == a/b\n",
    "\n",
    "def test_poly_first():\n",
    "    assert sm.poly_first(x,a0,a1) == a0 + a1*x\n",
    "\n",
    "def test_poly_second():\n",
    "    assert sm.poly_second(x,a0,a1,a2) == a0 + a1*x +a2*(x**2)"
   ]
  },
  {
   "cell_type": "code",
   "execution_count": 73,
   "metadata": {},
   "outputs": [
    {
     "name": "stdout",
     "output_type": "stream",
     "text": [
      "============================= test session starts =============================\n",
      "platform win32 -- Python 3.8.5, pytest-6.1.1, py-1.9.0, pluggy-0.13.1\n",
      "rootdir: C:\\Users\\edvan426\\Documents\\Python-Course\\Tasks-ASPP2021-Edvin-Andersson\\Day4\n",
      "collected 6 items\n",
      "\n",
      "test_simple_math.py ......                                               [100%]\n",
      "\n",
      "============================== warnings summary ===============================\n",
      "..\\..\\..\\..\\Anaconda3\\lib\\site-packages\\pyreadline\\py3k_compat.py:8\n",
      "  C:\\Users\\edvan426\\Anaconda3\\lib\\site-packages\\pyreadline\\py3k_compat.py:8: DeprecationWarning: Using or importing the ABCs from 'collections' instead of from 'collections.abc' is deprecated since Python 3.3, and in 3.9 it will stop working\n",
      "    return isinstance(x, collections.Callable)\n",
      "\n",
      "-- Docs: https://docs.pytest.org/en/stable/warnings.html\n",
      "======================== 6 passed, 1 warning in 0.12s =========================\n"
     ]
    }
   ],
   "source": [
    "!py.test"
   ]
  },
  {
   "cell_type": "code",
   "execution_count": null,
   "metadata": {},
   "outputs": [],
   "source": []
  },
  {
   "cell_type": "code",
   "execution_count": null,
   "metadata": {},
   "outputs": [],
   "source": []
  },
  {
   "cell_type": "code",
   "execution_count": null,
   "metadata": {},
   "outputs": [],
   "source": []
  }
 ],
 "metadata": {
  "kernelspec": {
   "display_name": "Python 3",
   "language": "python",
   "name": "python3"
  },
  "language_info": {
   "codemirror_mode": {
    "name": "ipython",
    "version": 3
   },
   "file_extension": ".py",
   "mimetype": "text/x-python",
   "name": "python",
   "nbconvert_exporter": "python",
   "pygments_lexer": "ipython3",
   "version": "3.8.5"
  }
 },
 "nbformat": 4,
 "nbformat_minor": 4
}
