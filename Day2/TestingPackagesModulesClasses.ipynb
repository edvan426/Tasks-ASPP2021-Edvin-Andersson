{
 "cells": [
  {
   "cell_type": "code",
   "execution_count": 1,
   "metadata": {},
   "outputs": [
    {
     "name": "stdout",
     "output_type": "stream",
     "text": [
      "Overwriting animals/mammals.py\n"
     ]
    }
   ],
   "source": [
    "%%writefile 'animals/mammals.py' \n",
    "# Writes file to destination folder\n",
    "#Mammals module\n",
    "class Mammals: \n",
    "    def __init__(self): \n",
    "        ''' Constructor for this class. ''' \n",
    "        # Create some member animals \n",
    "        self.members = ['Tiger', 'Elephant', 'Wild Cat'] \n",
    "  \n",
    "  \n",
    "    def printMembers(self): \n",
    "        print('Printing members of the Mammals class') \n",
    "        for member in self.members: \n",
    "            print('\\t%s ' % member)"
   ]
  },
  {
   "cell_type": "code",
   "execution_count": 2,
   "metadata": {},
   "outputs": [
    {
     "name": "stdout",
     "output_type": "stream",
     "text": [
      "Overwriting animals/harmless/birds.py\n"
     ]
    }
   ],
   "source": [
    "%%writefile 'animals/harmless/birds.py' \n",
    "# Writes file to destination folder\n",
    "#Birds module\n",
    "class Birds:\n",
    "    def __init__(self): \n",
    "        ''' Constructor for this class. ''' \n",
    "        # Create some member animals \n",
    "        self.members = ['Sparrow', 'Robin', 'Duck'] \n",
    "  \n",
    "  \n",
    "    def printMembers(self): \n",
    "        print('Printing members of the Birds class') \n",
    "        for member in self.members: \n",
    "           print('\\t%s ' % member) "
   ]
  },
  {
   "cell_type": "code",
   "execution_count": 3,
   "metadata": {},
   "outputs": [
    {
     "name": "stdout",
     "output_type": "stream",
     "text": [
      "Overwriting animals/dangerous/fish.py\n"
     ]
    }
   ],
   "source": [
    "%%writefile 'animals/dangerous/fish.py' \n",
    "# Writes file to destination folder\n",
    "#Fish module\n",
    "class Fish:\n",
    "    def __init__(self): \n",
    "        ''' Constructor for this class. ''' \n",
    "        # Create some member animals \n",
    "        self.members = ['Bass', 'Salmon', 'Cod'] \n",
    "  \n",
    "  \n",
    "    def printMembers(self): \n",
    "        print('Printing members of the Fish class') \n",
    "        for member in self.members: \n",
    "           print('\\t%s ' % member) "
   ]
  },
  {
   "cell_type": "code",
   "execution_count": 4,
   "metadata": {},
   "outputs": [
    {
     "name": "stdout",
     "output_type": "stream",
     "text": [
      "Overwriting animals/__init__.py\n"
     ]
    }
   ],
   "source": [
    "%%writefile 'animals/__init__.py' \n",
    "# Writes __init__.py file for animals folder\n",
    "from .mammals import Mammals\n",
    "from .harmless import *\n",
    "from .dangerous import *"
   ]
  },
  {
   "cell_type": "code",
   "execution_count": 5,
   "metadata": {},
   "outputs": [
    {
     "name": "stdout",
     "output_type": "stream",
     "text": [
      "Overwriting animals/harmless/__init__.py\n"
     ]
    }
   ],
   "source": [
    "%%writefile 'animals/harmless/__init__.py' \n",
    "# Writes __init__.py file for animals/harmless folder\n",
    "from .birds import Birds"
   ]
  },
  {
   "cell_type": "code",
   "execution_count": 6,
   "metadata": {},
   "outputs": [
    {
     "name": "stdout",
     "output_type": "stream",
     "text": [
      "Overwriting animals/dangerous/__init__.py\n"
     ]
    }
   ],
   "source": [
    "%%writefile 'animals/dangerous/__init__.py' \n",
    "# Writes __init__.py file for animals/dangerous folder\n",
    "from .fish import Fish"
   ]
  },
  {
   "cell_type": "code",
   "execution_count": 8,
   "metadata": {},
   "outputs": [
    {
     "name": "stdout",
     "output_type": "stream",
     "text": [
      "Printing members of the Birds class\n",
      "\tSparrow \n",
      "\tRobin \n",
      "\tDuck \n",
      "Printing members of the Fish class\n",
      "\tBass \n",
      "\tSalmon \n",
      "\tCod \n",
      "Printing members of the Mammals class\n",
      "\tTiger \n",
      "\tElephant \n",
      "\tWild Cat \n"
     ]
    }
   ],
   "source": [
    "import animals\n",
    "\n",
    "harmless_birds = animals.harmless.Birds()\n",
    "harmless_birds.printMembers()\n",
    "\n",
    "dangerous_fish = animals.dangerous.Fish()\n",
    "dangerous_fish.printMembers()\n",
    "\n",
    "mammals = animals.Mammals()\n",
    "mammals.printMembers()"
   ]
  },
  {
   "cell_type": "code",
   "execution_count": null,
   "metadata": {},
   "outputs": [],
   "source": []
  },
  {
   "cell_type": "code",
   "execution_count": null,
   "metadata": {},
   "outputs": [],
   "source": []
  },
  {
   "cell_type": "code",
   "execution_count": null,
   "metadata": {},
   "outputs": [],
   "source": []
  }
 ],
 "metadata": {
  "kernelspec": {
   "display_name": "Python 3",
   "language": "python",
   "name": "python3"
  },
  "language_info": {
   "codemirror_mode": {
    "name": "ipython",
    "version": 3
   },
   "file_extension": ".py",
   "mimetype": "text/x-python",
   "name": "python",
   "nbconvert_exporter": "python",
   "pygments_lexer": "ipython3",
   "version": "3.8.5"
  }
 },
 "nbformat": 4,
 "nbformat_minor": 4
}
