{
 "cells": [
  {
   "cell_type": "code",
   "execution_count": 1,
   "metadata": {},
   "outputs": [
    {
     "name": "stdout",
     "output_type": "stream",
     "text": [
      "Add the values of the dice\n",
      "It's really that easy\n",
      "What are you doing with your life.\n",
      "Round 1\n",
      "\n",
      "---------\n",
      "|*      |\n",
      "|   *   |\n",
      "|      *|\n",
      "---------\n",
      "---------\n",
      "|*      |\n",
      "|   *   |\n",
      "|      *|\n",
      "---------\n",
      "---------\n",
      "|*     *|\n",
      "|*     *|\n",
      "|*     *|\n",
      "---------\n",
      "---------\n",
      "|       |\n",
      "|   *   |\n",
      "|       |\n",
      "---------\n",
      "---------\n",
      "|*      |\n",
      "|       |\n",
      "|      *|\n",
      "---------\n",
      "Sigh. What is your guess?: 15\n",
      "Congrats, you can add like a 5 year old...\n",
      "Wins: 1 Loses 0\n",
      "Would you like to play again?[Y/n]: n\n"
     ]
    }
   ],
   "source": [
    "from dicegame.runner import GameRunner\n",
    "\n",
    "\n",
    "def main():\n",
    "    print(\"Add the values of the dice\")\n",
    "    print(\"It's really that easy\")\n",
    "    print(\"What are you doing with your life.\")\n",
    "    GameRunner.run()\n",
    "\n",
    "\n",
    "if __name__ == \"__main__\":\n",
    "    main()"
   ]
  },
  {
   "cell_type": "code",
   "execution_count": null,
   "metadata": {},
   "outputs": [],
   "source": []
  }
 ],
 "metadata": {
  "kernelspec": {
   "display_name": "Python 3",
   "language": "python",
   "name": "python3"
  },
  "language_info": {
   "codemirror_mode": {
    "name": "ipython",
    "version": 3
   },
   "file_extension": ".py",
   "mimetype": "text/x-python",
   "name": "python",
   "nbconvert_exporter": "python",
   "pygments_lexer": "ipython3",
   "version": "3.8.5"
  }
 },
 "nbformat": 4,
 "nbformat_minor": 4
}
